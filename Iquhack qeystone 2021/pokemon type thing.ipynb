{
 "cells": [
  {
   "cell_type": "markdown",
   "metadata": {},
   "source": [
    "When game starts, all states are zero. State system python equivalent = functions for each class. set up class templates in case more than one battle is wanted.\n",
    "player class\n",
    "enemy class\n",
    "animation can be a generic glitch\n",
    "quantum can be imported later\n",
    "typical battle:\n",
    "intro screen where all states are initialized. if start button pressed, hide the screen and initiate runtime\n",
    "a) roll die to see who goes first b) "
   ]
  },
  {
   "cell_type": "code",
   "execution_count": 116,
   "metadata": {},
   "outputs": [],
   "source": [
    "import math\n",
    "import sys\n",
    "import os\n",
    "sys.path.insert(0, os.path.abspath('./..'))\n",
    "import jupylet.color\n",
    "from jupylet.sprite import Sprite\n",
    "from jupylet.label import Label\n",
    "from jupylet.app import App\n"
   ]
  },
  {
   "cell_type": "code",
   "execution_count": 100,
   "metadata": {},
   "outputs": [],
   "source": [
    "app = App()"
   ]
  },
  {
   "cell_type": "code",
   "execution_count": 101,
   "metadata": {},
   "outputs": [],
   "source": [
    "from qiskit import *\n",
    "from math import pi"
   ]
  },
  {
   "cell_type": "markdown",
   "metadata": {},
   "source": [
    "moves are quantum gates\n",
    "- OBJECTIVE: PLAYER GETS HIGHEST PROBABILITY OF GETTING TO THE 1 STATE\n",
    "- moves manipulate qubit state\n",
    "- negative phases are defenses (probably not ?)\n",
    "- record moves and apply gates to a circuit\n",
    "- at the end of the game, measure and see who wins\n",
    "- EXTRA feature: playback: see what moves have been done already\n",
    "- make room to add more cards\n",
    "- cards with turn cooldown\n",
    "Setting up game:\n",
    "- set up enemy and player moves (are cards that are given prechosen or are they chosen randomly from a predecided array)\n",
    "- text in top corner showing current vector state of qubit (backend result)\n",
    "- game start: define cards that the player has\n",
    "- load up cardUI with # of cards that are in the player array\n",
    "- function declareWinner\n",
    "\n",
    "- function measureAndDisplay\n",
    "    - 1) one by one, send values through a circuit and measure\n",
    "    - 2) says that it's loading as values run through ionq\n",
    "    - 3) updates UI probability, vector state, and winning texts\n",
    "    - 4) returns 1 if player is winning, 0 if player is losing\n",
    "- function player's move:\n",
    "    - 1) waits for card user input. if card is on cooldown then deny and repeat this step.\n",
    "    - 2) return selected value and shrink the selected card to 50\n",
    "    - 3) puts first value in a list\n",
    "        ONLY IF PLAY 2 CARDS HAS BEEN SELECTED: \n",
    "        - 5) wait for another user response\n",
    "        - 6) shrink card that was selected to 50\n",
    "        - 7) puts second value in the list\n",
    "    - 8) call measuring function\n",
    "    - 9) call enemyTurn and subtract remaining turns by 1\n",
    "- function enemy's move:\n",
    "    - 0) if winning turn number is zero then call declareWinner function and return absolutely nothing\n",
    "    - 1) #all optimization logic here\n",
    "    - n-1) call measuring function\n",
    "    - n) call playerTurn\n",
    "- how will winning states be declared?\n",
    "    - 1) if you get |1> you win"
   ]
  },
  {
   "cell_type": "code",
   "execution_count": 102,
   "metadata": {},
   "outputs": [],
   "source": [
    "# V A R I A B L E S\n",
    "\n",
    "possibleGatesNames = (\"gateName1\", \"gateName2\", \"gateName3\", \"gateName4\")\n",
    "possibleGatesDict = { #FILL THIS OUT (whole game depends on it)\n",
    "    possibleGatesNames[0] : QuantumCircuit(1).x(0), #replace these with the gate you'll actually be using, add all the gates you want\n",
    "    possibleGatesNames[1] : QuantumCircuit(1).x(0),\n",
    "    possibleGatesNames[2] : QuantumCircuit(1).x(0),\n",
    "    possibleGatesNames[3] : QuantumCircuit(1).x(0)\n",
    "}\n",
    "\n",
    "winningTurnNumber = 10 #this can be changed\n",
    "\n",
    "availableCards = [] #INSERT YOUR GATES *FROM DICTIONARY HERE* (whole game depends on it)\n",
    "#example: how to set the first card that will be in each hand to the second possible gate \n",
    "#availableCards[0] = possibleGatesDict.possibleGatesNames[1]\n",
    "\n",
    "cardsUI = []\n",
    "numberOfCards = len(availableCards)\n",
    "\n",
    "playerHand = availableCards.copy()  #dynamic changing\n",
    "enemyHand = availableCards.copy()\n",
    "\n",
    "winning = \"Nobody is Currently Winning!\"\n",
    "currentQubitState = \"nothing here\"\n",
    "currentQubitProbability = \"N/A\"\n",
    "\n"
   ]
  },
  {
   "cell_type": "markdown",
   "metadata": {},
   "source": [
    "dictionaries example:\n",
    "#print key with val x\n",
    "print(list(my_dict.keys())[val_list.index(x)])"
   ]
  },
  {
   "cell_type": "code",
   "execution_count": 103,
   "metadata": {},
   "outputs": [],
   "source": [
    "# S P R I T E S\n",
    "\n",
    "playerFace = Sprite('playerDummySprite.png', x=20, y=20, scale=50)\n",
    "enemyFace = Sprite('enemyDummySprite.png', x=app.width, y=app.height, scale=50)\n",
    "\n",
    "stateText = Label(currentQubitState, color='cyan', font_size=15, x=64, y=app.height-10, anchor_x='right')\n",
    "possibleText = Label(currentQubitProbability, color='cyan', font_size=15, x=64, y=app.height-20, anchor_x='right')\n",
    "winningText = Label(winning, color ='cyan', font_size=18, x=64, y=app.height-30, anchor_x='right')"
   ]
  },
  {
   "cell_type": "code",
   "execution_count": 104,
   "metadata": {},
   "outputs": [],
   "source": [
    "class Card:\n",
    "    spr = Sprite('cardDummySprite.png', x=app.width/2, y=20, scale=50)\n",
    "    def __init__(self, cardType, isShrinking):\n",
    "        self.cardType = cardType\n",
    "    \n",
    "    def showCardType():\n",
    "        cardText = Label(print(list(possibleGatesDict.keys())[list(possibleGatesDict.values()).index(self.cardType)]), color = 'cyan', font_size=9, x=64, y=app.height-10, anchor_x='right')\n",
    "        #pass"
   ]
  },
  {
   "cell_type": "code",
   "execution_count": 105,
   "metadata": {},
   "outputs": [],
   "source": [
    "# state = State ()"
   ]
  },
  {
   "cell_type": "code",
   "execution_count": 106,
   "metadata": {},
   "outputs": [],
   "source": [
    "def cardShrink(card):\n",
    "    while card.scale > 50 and card.isShrinking is True:\n",
    "        card.scale -= 1"
   ]
  },
  {
   "cell_type": "code",
   "execution_count": 107,
   "metadata": {},
   "outputs": [],
   "source": [
    "for i in range(numberOfCards):\n",
    "    cardsUI[i] = Card(playerHand[i], False)\n",
    "    cardsUI[i].spr.x += (i*(scale)) + 4"
   ]
  },
  {
   "cell_type": "code",
   "execution_count": 108,
   "metadata": {},
   "outputs": [],
   "source": [
    "@app.event\n",
    "def render(ct,dt):\n",
    "    app.window.clear()\n",
    "    playerFace.draw()\n",
    "    enemyFace.draw()\n",
    "    for i in range (numberOfCards):\n",
    "        cardsUI[i].draw()"
   ]
  },
  {
   "cell_type": "code",
   "execution_count": 109,
   "metadata": {},
   "outputs": [],
   "source": [
    "def measureAndDisplay():\n",
    "    \"\"\"\n",
    "    - 1) one by one, send values through a circuit and measure\n",
    "    - 2) says that it's loading as values run through ionq\n",
    "    - 3) updates UI probability, vector state, and winning texts\n",
    "    - 4) returns 1 if player is winning, 0 if player is losing\n",
    "    \"\"\"\n",
    "    #to change text: declaredLable.text = str(intValue)"
   ]
  },
  {
   "cell_type": "code",
   "execution_count": 110,
   "metadata": {},
   "outputs": [],
   "source": [
    "def declareWinner():\n",
    "    if measureAndDisplay() == 1:\n",
    "        winningText.text = \"YOU WIN!\"\n",
    "    elif measureAndDisplay() == 0:\n",
    "        winningText.text = \"You lost. Go try again!\""
   ]
  },
  {
   "cell_type": "code",
   "execution_count": 111,
   "metadata": {},
   "outputs": [],
   "source": [
    "def playerTurn():\n",
    "    \"\"\"\n",
    "    \n",
    "    \"\"\""
   ]
  },
  {
   "cell_type": "code",
   "execution_count": 112,
   "metadata": {},
   "outputs": [],
   "source": [
    "def enemyTurn():\n",
    "    pass"
   ]
  },
  {
   "cell_type": "code",
   "execution_count": 113,
   "metadata": {},
   "outputs": [],
   "source": [
    "def updateCards():\n",
    "    pass"
   ]
  },
  {
   "cell_type": "code",
   "execution_count": 114,
   "metadata": {},
   "outputs": [],
   "source": [
    "def updateUI():\n",
    "    pass\n",
    "    "
   ]
  },
  {
   "cell_type": "code",
   "execution_count": 115,
   "metadata": {},
   "outputs": [
    {
     "data": {
      "application/vnd.jupyter.widget-view+json": {
       "model_id": "d99ddf90897b43a3a47e3fa29026626f",
       "version_major": 2,
       "version_minor": 0
      },
      "text/plain": [
       "Image(value=b'\\xff\\xd8\\xff\\xe0\\x00\\x10JFIF\\x00\\x01\\x01\\x00\\x00\\x01\\x00\\x01\\x00\\x00\\xff\\xdb\\x00C\\x00\\x08\\x06\\x0…"
      ]
     },
     "metadata": {},
     "output_type": "display_data"
    }
   ],
   "source": [
    "app.run()"
   ]
  },
  {
   "cell_type": "code",
   "execution_count": null,
   "metadata": {},
   "outputs": [],
   "source": []
  },
  {
   "cell_type": "code",
   "execution_count": null,
   "metadata": {},
   "outputs": [],
   "source": []
  },
  {
   "cell_type": "code",
   "execution_count": null,
   "metadata": {},
   "outputs": [],
   "source": []
  },
  {
   "cell_type": "code",
   "execution_count": null,
   "metadata": {},
   "outputs": [],
   "source": []
  }
 ],
 "metadata": {
  "kernelspec": {
   "display_name": "Python 3",
   "language": "python",
   "name": "python3"
  },
  "language_info": {
   "codemirror_mode": {
    "name": "ipython",
    "version": 3
   },
   "file_extension": ".py",
   "mimetype": "text/x-python",
   "name": "python",
   "nbconvert_exporter": "python",
   "pygments_lexer": "ipython3",
   "version": "3.8.5"
  }
 },
 "nbformat": 4,
 "nbformat_minor": 4
}
