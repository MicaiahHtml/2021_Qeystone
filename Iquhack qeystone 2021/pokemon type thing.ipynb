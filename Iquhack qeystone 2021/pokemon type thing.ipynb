{
 "cells": [
  {
   "cell_type": "markdown",
   "metadata": {},
   "source": [
    "moves are quantum gates\n",
    "- OBJECTIVE: PLAYER GETS HIGHEST PROBABILITY OF GETTING TO THE 1 STATE\n",
    "- moves manipulate qubit state\n",
    "- negative phases are defenses (probably not ?)\n",
    "- record moves and apply gates to a circuit\n",
    "- at the end of the game, measure and see who wins\n",
    "- EXTRA feature: playback: see what moves have been done already\n",
    "- make room to add more cards\n",
    "- cards with turn cooldown\n",
    "Setting up game:\n",
    "- set up enemy and player moves (are cards that are given prechosen or are they chosen randomly from a predecided array)\n",
    "- text in top corner showing current vector state of qubit (backend result)\n",
    "- game start: define cards that the player has\n",
    "- load up cardUI with # of cards that are in the player array\n",
    "- function declareWinner\n",
    "\n",
    "- function measureAndDisplay\n",
    "    - 1) one by one, send values through a circuit and measure\n",
    "    - 2) says that it's loading as values run through ionq\n",
    "    - 3) updates UI probability, vector state, and winning texts\n",
    "    - 4) returns 1 if player is winning, 0 if player is losing\n",
    "- function player's move:\n",
    "    - 1) waits for card user input. if card is on cooldown then deny and repeat this step.\n",
    "    - 2) return selected value and shrink the selected card to 50\n",
    "    - 3) puts first value in a list\n",
    "        ONLY IF PLAY 2 CARDS HAS BEEN SELECTED: \n",
    "        - 5) wait for another user response\n",
    "        - 6) shrink card that was selected to 50\n",
    "        - 7) puts second value in the list\n",
    "    - 8) call measuring function\n",
    "    - 9) call enemyTurn and subtract remaining turns by 1\n",
    "- function enemy's move:\n",
    "    - 0) if winning turn number is zero then call declareWinner function and return absolutely nothing\n",
    "    - 1) #all optimization logic here\n",
    "    - n-1) call measuring function\n",
    "    - n) call playerTurn\n",
    "- how will winning states be declared?\n",
    "    - 1) if you get |1> you win"
   ]
  },
  {
   "cell_type": "code",
   "execution_count": 100,
   "metadata": {},
   "outputs": [],
   "source": [
    "import logging #is this necessary? who knows\n",
    "import math\n",
    "import sys\n",
    "import os\n",
    "import time\n",
    "import random\n",
    "\n",
    "sys.path.insert(0, os.path.abspath('./..'))\n",
    "import jupylet.color\n",
    "from jupylet.sprite import Sprite\n",
    "from jupylet.label import Label\n",
    "from jupylet.app import App\n",
    "from jupylet.state import State\n",
    "from jupylet.collision import trbl, hitmap_and_outline_from_alpha, compute_collisions \n",
    "\n",
    "from qiskit import *\n",
    "from qiskit.visualization import *\n",
    "import numpy as np\n",
    "import math\n",
    "from qiskit import Aer, execute\n",
    "from qiskit_ionq_provider import IonQProvider"
   ]
  },
  {
   "cell_type": "code",
   "execution_count": 101,
   "metadata": {},
   "outputs": [],
   "source": [
    "app = App()"
   ]
  },
  {
   "cell_type": "code",
   "execution_count": 102,
   "metadata": {},
   "outputs": [],
   "source": [
    "# V A R I A B L E S\n",
    "circuit = QuantumCircuit(1,1)\n",
    "#possibleGatesNames = () #can enter them as symbols as well\n",
    "\"\"\"possibleGatesDict = { #FILL THIS OUT (whole game depends on it)\n",
    "    possibleGatesNames[0] : circuit.x(0),\n",
    "    possibleGatesNames[1] : circuit.rx(math.pi/2, 0),\n",
    "    possibleGatesNames[2] : circuit.z(0),\n",
    "    possibleGatesNames[3] : circuit.y(0),\n",
    "    possibleGatesNames[4] : circuit.t(0),\n",
    "    possibleGatesNames[5] : circuit.p(math.pi/2, 0),\n",
    "    possibleGatesNames[6] : circuit.p(math.pi/4, 0),\n",
    "    possibleGatesNames[7] : circuit.p(math.pi, 0)\n",
    "}\"\"\"\n",
    "\n",
    "turnNumber = 10 #this can be changed\n",
    "\n",
    "availableCards = [\"X Gate\", \"SX Gate\", \"Z Gate\", \"Y Gate\", \"T Gate\", \"P PI/2\", \"P PI/4\", \"P PI\"] \n",
    "\n",
    "#INSERT YOUR GATES *FROM DICTIONARY HERE* (whole game depends on it)\n",
    "#example: how to set the first card that will be in each hand to the second possible gate \n",
    "#availableCards = [possibleGatesDict.possibleGatesNames[1]]\n",
    "availableCardCooldowns = [2,3,4,2]\n",
    "#INSERT how many turns per gate it'll take for the player to unlock card per gate here\n",
    "\n",
    "#player card stats\n",
    "cardsUI = []\n",
    "cardsText = []\n",
    "cardsStates = [] #0 state is not in cooldown\n",
    "selectedCardNum = 0\n",
    "\n",
    "enemySelectedCardNum = 0\n",
    "enemyCardsStates = []\n",
    "enemyCardsText = []\n",
    "\n",
    "numberOfCards = len(availableCards)\n",
    "\n",
    "playerHand = availableCards.copy()\n",
    "enemyHand = availableCards.copy()\n",
    "\n",
    "currentCircuitChosen = 0\n",
    "\n",
    "winning = \"Nobody is Currently Winning!\"\n",
    "currentQubitState = \"no qubit vector\"\n",
    "currentQubitProbability = \"|1> Probability: N/A\"\n",
    "turn = \"You Go\"\n",
    "\n"
   ]
  },
  {
   "cell_type": "code",
   "execution_count": 103,
   "metadata": {},
   "outputs": [],
   "source": [
    "# S T A T E S\n",
    "\n",
    "state = State(\n",
    "    cardChosen = False,\n",
    "    shrinkMe = False,\n",
    "    isPlayerTurn = True,\n",
    "    gameStarted = False,\n",
    "    gameOver = False,\n",
    ")\n"
   ]
  },
  {
   "cell_type": "code",
   "execution_count": 104,
   "metadata": {},
   "outputs": [],
   "source": [
    "# S P R I T E S\n",
    "\n",
    "playerFace = Sprite('playerDummySprite.png', x=80, y=app.height-80, scale=1)\n",
    "enemyFace = Sprite('enemyDummySprite.png', x=app.width-80, y=app.height-80, scale=1)\n",
    "cursor = Sprite('cursorDummySprite.png', scale = 0.1, collisions = True)\n",
    "\n",
    "stateText = Label(currentQubitState, color='cyan', font_size=15, x=app.width/2, y=app.height-40, anchor_x='right')\n",
    "possibleText = Label(currentQubitProbability, color='cyan', font_size=15, x=app.width/2, y=app.height-20, anchor_x='right')\n",
    "winningText = Label(winning, color ='cyan', font_size=25, x=(app.width-90), y=app.height-60, anchor_x='right')\n",
    "turnText = Label(turn, color ='cyan', font_size=10, x=(app.width/2), y=app.height-80, anchor_x='right')\n",
    "\n",
    "logLabel = Label('foo', color = 'white', font_size=10, x=(app.width/2), y=app.height-100, anchor_x='right')"
   ]
  },
  {
   "cell_type": "code",
   "execution_count": 105,
   "metadata": {},
   "outputs": [],
   "source": [
    "# C A R D  S E T U P\n",
    "\n",
    "for i in range(numberOfCards):\n",
    "    #cardsUI.append(Card(playerHand[i], False))\n",
    "    cardsUI.append(Sprite('cardDummySprite.png', x = (60*i) + 30, y=app.width/2, scale=1,collisions=True))\n",
    "    \n",
    "    dictVal = availableCards[i]\n",
    "    enDictVal = availableCards[i]\n",
    "    cardsText.append(Label(dictVal, font_size=(9*round(cardsUI[i].scale)), color = 'cyan', x=cardsUI[i].x-20, y=cardsUI[i].y))\n",
    "    enemyCardsText.append(enDictVal) \n",
    "    cardsStates.append(0)\n",
    "    enemyCardsStates.append(0)\n",
    "    #cardsUI[i].spr.x += (i*32) + 4"
   ]
  },
  {
   "cell_type": "markdown",
   "metadata": {},
   "source": [
    "<h1>FUNCTIONS<h1>"
   ]
  },
  {
   "cell_type": "code",
   "execution_count": 106,
   "metadata": {},
   "outputs": [],
   "source": [
    "#print(cardsUI[1])"
   ]
  },
  {
   "cell_type": "code",
   "execution_count": 107,
   "metadata": {},
   "outputs": [],
   "source": [
    "#where render was"
   ]
  },
  {
   "cell_type": "code",
   "execution_count": 108,
   "metadata": {},
   "outputs": [],
   "source": [
    "def isColliding(sprite, o, debug=False):\n",
    "    #jupylet source code adjustment: custom boolean returning function\n",
    "\n",
    "    #if sprite.distance_to(o) > sprite.radius + o.radius:\n",
    "    #    return\n",
    "\n",
    "    x0, y0 = sprite.position.xy\n",
    "    x1, y1 = o.position.xy\n",
    "\n",
    "    t0, r0, b0, l0 = sprite._trbl()\n",
    "    t1, r1, b1, l1 = o._trbl()\n",
    "\n",
    "    if t0 + y0 < b1 + y1 or t1 + y1 < b0 + y0:\n",
    "        return False\n",
    "\n",
    "    if r0 + x0 < l1 + x1 or r1 + x1 < l0 + x0:\n",
    "        return False\n",
    "\n",
    "    #return compute_collisions(o, sprite, debug=debug)\n",
    "    return True\n"
   ]
  },
  {
   "cell_type": "code",
   "execution_count": 109,
   "metadata": {},
   "outputs": [],
   "source": [
    "def measureAndDisplay(): #use currentCircuitChosen!\n",
    "    \"\"\"\n",
    "    main idea:\n",
    "    - 1) one by one, send values through a circuit and measure\n",
    "    - 2) says that it's loading as values run through ionq\n",
    "    - 3) updates UI probability, vector state, and winning texts\n",
    "    - 4) returns 1 if player is winning, 0 if player is losing\n",
    "    \"\"\"\n",
    "    #to change text: declaredLable.text = str(intValue)"
   ]
  },
  {
   "cell_type": "code",
   "execution_count": 110,
   "metadata": {},
   "outputs": [],
   "source": [
    "@app.run_me_every(1/2)\n",
    "def gameController(ct, dt):\n",
    "    pass\n",
    "        "
   ]
  },
  {
   "cell_type": "code",
   "execution_count": 111,
   "metadata": {},
   "outputs": [],
   "source": [
    "def declareWinner():\n",
    "    if measureAndDisplay() == 1:\n",
    "        winningText.text = \"YOU WIN!\"\n",
    "    elif measureAndDisplay() == 0:\n",
    "        winningText.text = \"You lost. Go try again!\"\n",
    "    state.gameStarted = False"
   ]
  },
  {
   "cell_type": "code",
   "execution_count": 112,
   "metadata": {},
   "outputs": [],
   "source": [
    "def cooldown(array,arrayUI=[]):\n",
    "    for i in range(len(array)):\n",
    "        if array[i] > 0:\n",
    "            array[i] -= 1\n",
    "            if array[i] == 0 and arrayUI:\n",
    "                arrayUI[i].angle = 0\n",
    "                logLabel.text = \"Some cards came off cooldown that you can use!\""
   ]
  },
  {
   "cell_type": "code",
   "execution_count": 113,
   "metadata": {},
   "outputs": [],
   "source": [
    "def enemyTurn(): #for now, it chooses a random gate. If available, comment out below and put code optimization here\n",
    "#if not state.isPlayerTurn and not state.gameOver:\n",
    "    turn = \"They Go\"\n",
    "    turnText.text = turn\n",
    "    state.PlayerJustWent = False\n",
    "    #logLabel.text = \"enemyrun\"\n",
    "    tempChoice = random.randint(0,(len(enemyHand)-1))\n",
    "    #below, whichever way you choose a card, make sure to get the index of the chosen card \n",
    "    #so enemy can check if it's on cooldown:\n",
    "    if enemyCardsStates[tempChoice] > 0:\n",
    "        while enemyCardsStates[tempChoice] > 0:\n",
    "            tempChoice = random.randint(0,(len(enemyHand)-1))\n",
    "    enemySelectedCardNum = tempChoice\n",
    "    #find selected card\n",
    "    tempCard = 0\n",
    "    for i in range(len(possibleGatesNames)):\n",
    "        if enemyCardsText[enemySelectedCardNum] == possibleGatesNames[i]:\n",
    "            tempCard = i\n",
    "    #currentCircuitChosen = possibleGatesDict[possibleGatesNames[tempCard]]        \n",
    "    cooldown(enemyCardsStates)\n",
    "    enemyCardsStates[enemySelectedCardNum] = availableCardCooldowns[enemySelectedCardNum]\n",
    "    time.sleep(0.5)\n",
    "    #run measurement\n",
    "    turn = \"You Go\"\n",
    "    logLabel.text = \"en card \"+str(enemySelectedCardNum)\n",
    "    turnText.text = turn\n",
    "    #state.aTurnIsHappening = False\n",
    "    state.isPlayerTurn = True\n",
    "    #state.needNextTurn = True\n",
    "    #pass"
   ]
  },
  {
   "cell_type": "code",
   "execution_count": null,
   "metadata": {},
   "outputs": [],
   "source": []
  },
  {
   "cell_type": "code",
   "execution_count": 114,
   "metadata": {},
   "outputs": [],
   "source": [
    "def prepareForEnemyTurn(tnum):\n",
    "    cooldown(cardsStates,cardsUI)\n",
    "    tnum = tnum - 1\n",
    "    turn = \"They Go\"\n",
    "    turnText.text = \"They Go\"\n",
    "    state.isPlayerTurn = False\n",
    "    state.aTurnIsHappening = False\n",
    "    state.playerJustWent = True\n",
    "    state.needNextTurn = True"
   ]
  },
  {
   "cell_type": "code",
   "execution_count": 115,
   "metadata": {},
   "outputs": [],
   "source": [
    "def updateCards():\n",
    "    pass"
   ]
  },
  {
   "cell_type": "code",
   "execution_count": 116,
   "metadata": {},
   "outputs": [],
   "source": [
    "def updateUI():\n",
    "    pass"
   ]
  },
  {
   "cell_type": "markdown",
   "metadata": {},
   "source": [
    "MORE EVENTS THAT CONSTANTLY RUN GO DOWN HERE"
   ]
  },
  {
   "cell_type": "code",
   "execution_count": 117,
   "metadata": {},
   "outputs": [],
   "source": [
    "#@app.run_me_every(1/20)\n",
    "def playerTurn():\n",
    "    #find selected card\n",
    "    tempCard = 0\n",
    "    for i in range(len(possibleGatesNames)):\n",
    "        if cardsText[selectedCardNum] == possibleGatesNames[i]:\n",
    "            tempCard = i\n",
    "    #currentCircuitChosen = possibleGatesDict[possibleGatesNames[tempCard]]\n",
    "    # IMPORTANT: measure function here!\n",
    "    prepareForEnemyTurn(turnNumber)\n",
    "    logLabel.text = \"enemyGoing\"\n",
    "    enemyTurn()\n",
    "    \"\"\"\n",
    "    - 1) waits for cardChosen to be true. if card is on cooldown then deny and repeat this step.\n",
    "    - 2) return selected value and shrink the selected card to 50\n",
    "    - 3) puts first value in a list\n",
    "        ONLY IF PLAY 2 CARDS HAS BEEN SELECTED: \n",
    "        - 5) wait for another user response\n",
    "        - 6) shrink card that was selected to 50\n",
    "        - 7) puts second value in the list\n",
    "    - 8) call measuring function\n",
    "    - 9) subtract remaining turns by 1, call lessenCooldowns(cardsStates) function\n",
    "    - 9) call enemyTurn and subtract turnNumber by 1\n",
    "    \"\"\""
   ]
  },
  {
   "cell_type": "code",
   "execution_count": 118,
   "metadata": {},
   "outputs": [
    {
     "data": {
      "text/plain": [
       "'def cardShrink(ang):\\n    ang = 90; #timeout/sleep?'"
      ]
     },
     "execution_count": 118,
     "metadata": {},
     "output_type": "execute_result"
    }
   ],
   "source": [
    "\"\"\"def cardShrink(ang):\n",
    "    ang = 90; #timeout/sleep?\"\"\""
   ]
  },
  {
   "cell_type": "code",
   "execution_count": 119,
   "metadata": {},
   "outputs": [],
   "source": [
    "@app.event\n",
    "def mouse_release_event(x, y, button):\n",
    "    #works here\n",
    "    if state.isPlayerTurn:\n",
    "        #works here\n",
    "        for i in range(len(cardsUI)):\n",
    "            if isColliding(cursor,cardsUI[i]) and cardsStates[i] == 0:\n",
    "            #if cursor.collisions_with(any(cardsUI)) and cardsStates[k] == 0:\n",
    "            #if cursor.collisions_with(cardsUI[k]) and cardsStates[k] == 0:\n",
    "            #if cursor.distance_to(cardsUI[k]) < cardsUI[k].radius:\n",
    "            #if (cursor.x >= cardsUI[k].left) and (cursor.x <= cardsUI[k].right) and (cursor.y >= cardsUI[k].bottom) and (cursor.y <= cardsUI[k].top) and (cardsStates[k] == 0):\n",
    "                selectedCardNum = i\n",
    "                logLabel.text= str(selectedCardNum)\n",
    "                #logLabel.text = str(cursor.distance_to(cardsUI[k]))\n",
    "                state.cardChosen = True\n",
    "                state.shrinkMe = True\n",
    "                cardsUI[i].angle = 90\n",
    "                state.shrinkMe = False\n",
    "                cardsStates[i] = availableCardCooldowns[i]\n",
    "                #logLabel.text='looping'+str(k)\n",
    "            elif cardsStates[i] > 0 or cardsUI[i].angle > 90:\n",
    "                logLabel.text = \"This card is still cooling down!\"\n",
    "        if state.cardChosen:\n",
    "            playerTurn()\n",
    "    else:\n",
    "        logLabel.text=\"Not Your Turn!\""
   ]
  },
  {
   "cell_type": "code",
   "execution_count": null,
   "metadata": {},
   "outputs": [],
   "source": []
  },
  {
   "cell_type": "code",
   "execution_count": 120,
   "metadata": {},
   "outputs": [],
   "source": [
    "@app.event\n",
    "def mouse_position_event(x, y, dx, dy):\n",
    "    cursor.x = x\n",
    "    cursor.y = y"
   ]
  },
  {
   "cell_type": "code",
   "execution_count": 121,
   "metadata": {},
   "outputs": [
    {
     "data": {
      "text/plain": [
       "'    \\n\\nif not state.aTurnIsHappening and state.needNextTurn:\\n        if state.isPlayerTurn:\\n            playerTurn()\\n            if state.cardChosen:\\n                state.needNextTurn = False\\n                state.aTurnIsHappening = True\\n        #if not state.isPlayerTurn:\\n        if state.playerJustWent:\\n            logLabel.text = \"enemy is runn\"\\n            enemyTurn()\\n            state.needNextTurn = False\\n            state.aTurnIsHappening = True\\n        if turnNumber < 1:\\n            state.isPlayerTurn = False\\n            state.gameOver = True\\n            declareWinner()'"
      ]
     },
     "execution_count": 121,
     "metadata": {},
     "output_type": "execute_result"
    }
   ],
   "source": [
    "\n",
    "@app.run_me_every(1/120)\n",
    "def GAMEPLAY(ct,dt):\n",
    "    if turnNumber < 1:\n",
    "        state.isPlayerTurn = False\n",
    "        state.gameOver = True\n",
    "        declareWinner()\n",
    "\"\"\"    \n",
    "\n",
    "if not state.aTurnIsHappening and state.needNextTurn:\n",
    "        if state.isPlayerTurn:\n",
    "            playerTurn()\n",
    "            if state.cardChosen:\n",
    "                state.needNextTurn = False\n",
    "                state.aTurnIsHappening = True\n",
    "        #if not state.isPlayerTurn:\n",
    "        if state.playerJustWent:\n",
    "            logLabel.text = \"enemy is runn\"\n",
    "            enemyTurn()\n",
    "            state.needNextTurn = False\n",
    "            state.aTurnIsHappening = True\n",
    "        if turnNumber < 1:\n",
    "            state.isPlayerTurn = False\n",
    "            state.gameOver = True\n",
    "            declareWinner()\"\"\""
   ]
  },
  {
   "cell_type": "code",
   "execution_count": 122,
   "metadata": {},
   "outputs": [],
   "source": [
    "@app.event\n",
    "def render(ct,dt):\n",
    "    app.window.clear()\n",
    "    for j in range (len(cardsUI)):\n",
    "        cardsUI[j].draw()\n",
    "        cardsText[j].draw()    \n",
    "    playerFace.draw()\n",
    "    enemyFace.draw()\n",
    "    stateText.draw()\n",
    "    possibleText.draw()\n",
    "    winningText.draw()\n",
    "    turnText.draw()\n",
    "    logLabel.draw()\n",
    "    cursor.draw()"
   ]
  },
  {
   "cell_type": "code",
   "execution_count": 123,
   "metadata": {
    "scrolled": false
   },
   "outputs": [
    {
     "data": {
      "application/vnd.jupyter.widget-view+json": {
       "model_id": "b2dd139d70b842f792738ed130c900db",
       "version_major": 2,
       "version_minor": 0
      },
      "text/plain": [
       "Image(value=b'\\xff\\xd8\\xff\\xe0\\x00\\x10JFIF\\x00\\x01\\x01\\x00\\x00\\x01\\x00\\x01\\x00\\x00\\xff\\xdb\\x00C\\x00\\x08\\x06\\x0…"
      ]
     },
     "metadata": {},
     "output_type": "display_data"
    }
   ],
   "source": [
    "#playerTurn()\n",
    "app.run()"
   ]
  },
  {
   "cell_type": "code",
   "execution_count": 124,
   "metadata": {},
   "outputs": [
    {
     "data": {
      "application/vnd.jupyter.widget-view+json": {
       "model_id": "f11d8683829948e7adef9f08e5db8c52",
       "version_major": 2,
       "version_minor": 0
      },
      "text/plain": [
       "Output(layout=Layout(height='256px', overflow_y='scroll'), outputs=({'output_type': 'stream', 'text': '2021-01…"
      ]
     },
     "metadata": {},
     "output_type": "display_data"
    }
   ],
   "source": [
    "app.get_logging_widget()"
   ]
  },
  {
   "cell_type": "code",
   "execution_count": 125,
   "metadata": {},
   "outputs": [],
   "source": [
    "#w.clear_output()\n"
   ]
  },
  {
   "cell_type": "code",
   "execution_count": 126,
   "metadata": {},
   "outputs": [
    {
     "name": "stdout",
     "output_type": "stream",
     "text": [
      "0\n"
     ]
    }
   ],
   "source": [
    "print(currentCircuitChosen)"
   ]
  },
  {
   "cell_type": "code",
   "execution_count": 127,
   "metadata": {},
   "outputs": [
    {
     "name": "stdout",
     "output_type": "stream",
     "text": [
      "The dotenv extension is already loaded. To reload it, use:\n",
      "  %reload_ext dotenv\n"
     ]
    }
   ],
   "source": [
    "%load_ext dotenv\n",
    "%dotenv\n",
    "import os\n",
    "TOKEN = os.getenv('API_KEY')\n",
    "#Call provider and set token value\n",
    "provider = IonQProvider(token=TOKEN)"
   ]
  },
  {
   "cell_type": "code",
   "execution_count": 128,
   "metadata": {},
   "outputs": [
    {
     "name": "stdout",
     "output_type": "stream",
     "text": [
      "{'0': 5, '1': 5}\n"
     ]
    }
   ],
   "source": [
    "#get_token()\n",
    "#possibleGatesDict[possibleGatesNames[0]]\n",
    "circ = QuantumCircuit(1,1)\n",
    "circ.h(0)\n",
    "circ.measure([0], [0])\n",
    "sim_backend = provider.get_backend('ionq_simulator')\n",
    "job = sim_backend.run(circ, shots=10)\n",
    "result = job.result()\n",
    "print(result.get_counts())"
   ]
  },
  {
   "cell_type": "code",
   "execution_count": null,
   "metadata": {},
   "outputs": [],
   "source": []
  }
 ],
 "metadata": {
  "kernelspec": {
   "display_name": "Python 3",
   "language": "python",
   "name": "python3"
  },
  "language_info": {
   "codemirror_mode": {
    "name": "ipython",
    "version": 3
   },
   "file_extension": ".py",
   "mimetype": "text/x-python",
   "name": "python",
   "nbconvert_exporter": "python",
   "pygments_lexer": "ipython3",
   "version": "3.8.5"
  }
 },
 "nbformat": 4,
 "nbformat_minor": 4
}
