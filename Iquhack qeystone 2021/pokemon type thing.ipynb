{
 "cells": [
  {
   "cell_type": "markdown",
   "metadata": {},
   "source": [
    "When game starts, all states are zero. State system python equivalent = functions for each class. set up class templates in case more than one battle is wanted.\n",
    "player class\n",
    "enemy class\n",
    "animation can be a generic glitch\n",
    "quantum can be imported later\n",
    "typical battle:\n",
    "intro screen where all states are initialized. if start button pressed, hide the screen and initiate runtime\n",
    "a) roll die to see who goes first b) "
   ]
  },
  {
   "cell_type": "code",
   "execution_count": 1,
   "metadata": {},
   "outputs": [],
   "source": [
    "import math\n",
    "import sys\n",
    "import os\n",
    "sys.path.insert(0, os.path.abspath('./..'))\n",
    "from jupylet.sprite import Sprite\n",
    "from jupylet.label import Label\n",
    "from jupylet.app import App"
   ]
  },
  {
   "cell_type": "code",
   "execution_count": 4,
   "metadata": {},
   "outputs": [],
   "source": [
    "app = App()"
   ]
  },
  {
   "cell_type": "code",
   "execution_count": 5,
   "metadata": {},
   "outputs": [],
   "source": [
    "from qiskit import *\n",
    "from math import pi"
   ]
  },
  {
   "cell_type": "markdown",
   "metadata": {},
   "source": [
    "moves are quantum gates\n",
    "- OBJECTIVE: PLAYER GETS HIGHEST PROBABILITY OF GETTING TO THE 1 STATE\n",
    "- moves manipulate sphere\n",
    "- negative phases are defenses\n",
    "- record moves and apply gates to a circuit that moves the arrow of a bloch sphere\n",
    "- at the end of the game, measure and see who wins\n",
    "- extra feature: playback \n",
    "- make room to add more cards\n",
    "- cards with turn cooldown\n",
    "Setting up game:\n",
    "- set up enemy and player moves (are cards that are given prechosen or are they chosen randomly from a predecided array)\n",
    "- text in top corner showing current vector state of qubit (backend result)\n",
    "- game start: define\n",
    "- function player's move:\n",
    "    - 1) waits for card user input.\n",
    "    - 2) runs a sub-function that loads up cardUI and waits for user response. Depending on which one they click, it returns the selected value\n",
    "    - 3) put the selected value in an array\n",
    "    - 4) fade out card that was selected\n",
    "    - 4) (port in cards)\n",
    "- how will winning states be declared?\n",
    "    - 1) if you get |1> you win"
   ]
  },
  {
   "cell_type": "code",
   "execution_count": 8,
   "metadata": {},
   "outputs": [],
   "source": [
    "playerCards = []\n",
    "enemyCards = []\n",
    "winner = \"nobody\"\n"
   ]
  },
  {
   "cell_type": "code",
   "execution_count": null,
   "metadata": {},
   "outputs": [],
   "source": [
    "label = Label('hello, world', color='cyan', font_size=32, x=10, y=10)"
   ]
  },
  {
   "cell_type": "code",
   "execution_count": null,
   "metadata": {},
   "outputs": [],
   "source": []
  },
  {
   "cell_type": "code",
   "execution_count": null,
   "metadata": {},
   "outputs": [],
   "source": [
    "def playerTurn():\n",
    "    "
   ]
  }
 ],
 "metadata": {
  "kernelspec": {
   "display_name": "Python 3",
   "language": "python",
   "name": "python3"
  },
  "language_info": {
   "codemirror_mode": {
    "name": "ipython",
    "version": 3
   },
   "file_extension": ".py",
   "mimetype": "text/x-python",
   "name": "python",
   "nbconvert_exporter": "python",
   "pygments_lexer": "ipython3",
   "version": "3.8.5"
  }
 },
 "nbformat": 4,
 "nbformat_minor": 4
}
